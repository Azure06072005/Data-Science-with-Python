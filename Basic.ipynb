{
 "cells": [
  {
   "cell_type": "markdown",
   "metadata": {},
   "source": [
    "Các loại toán tử trong Python\n",
    " Toán tử gán (Assignment Operator)\n",
    "a, b = b, a\n",
    "gán giá trị của biên a cho biên b\n",
    "Toán tử toán học (Arithmetic Operator)\n",
    "+, -, *, / //: chia nguyên \n",
    "%: chia dư\n",
    "**: lũy thừa\n",
    "Toán tử so sánh (Comparison Operator)\n",
    "Toán tử logic (Logical Operator)\n",
    "Toán tử nhận dạng (Identity Operator)\n",
    "Toán tử thành viên (Membership Operator)"
   ]
  },
  {
   "cell_type": "markdown",
   "metadata": {},
   "source": [
    "Input function\n",
    "Nhập dữ liệu với hàm input\n",
    "Cú pháp: input(prompt)\n",
    "giá trị trả về: input() trả về xâu kí tự ở kiểu str, cần phải chú ý ép kiểu sang dữ liệu tương ứng của biến trong đề bài"
   ]
  },
  {
   "cell_type": "code",
   "execution_count": 1,
   "metadata": {},
   "outputs": [
    {
     "name": "stdout",
     "output_type": "stream",
     "text": [
      "<class 'int'>\n",
      "23\n"
     ]
    }
   ],
   "source": [
    "n = int(input('Nhap so: '))\n",
    "print(type(n))\n",
    "print(n)"
   ]
  },
  {
   "cell_type": "markdown",
   "metadata": {},
   "source": [
    "FOR...IN\n",
    "for iterating_var in sequence:\n",
    "    statements(s)"
   ]
  },
  {
   "cell_type": "markdown",
   "metadata": {},
   "source": [
    "<!-- INPUT FUNCTION -->\n",
    "\n"
   ]
  },
  {
   "cell_type": "code",
   "execution_count": 4,
   "metadata": {},
   "outputs": [
    {
     "name": "stdout",
     "output_type": "stream",
     "text": [
      "Current Letter:  P\n",
      "Current Letter:  y\n",
      "Current Letter:  t\n",
      "Current Letter:  h\n",
      "Current Letter:  o\n",
      "Current Letter:  n\n",
      "Current fruit:  pineapple\n",
      "Current fruit:  apple\n",
      "Current fruit:  grapes\n",
      "Current fruit:  lemon\n",
      "Current fruit:  orange\n"
     ]
    }
   ],
   "source": [
    "for letter in 'Python':                 # FIRST EXAMPLE\n",
    "    print ('Current Letter: ', letter)\n",
    "fruits = ['pineapple', 'apple', 'grapes', 'lemon' ,'orange']\n",
    "for fruits in fruits:\n",
    "    print ('Current fruit: ', fruits)\n",
    "    "
   ]
  },
  {
   "cell_type": "code",
   "execution_count": null,
   "metadata": {},
   "outputs": [
    {
     "name": "stdout",
     "output_type": "stream",
     "text": [
      "0 0\n",
      "0 1\n",
      "0 2\n",
      "0 3\n",
      "0 4\n",
      "0 5\n",
      "0 6\n",
      "0 7\n",
      "0 8\n",
      "1 0\n",
      "1 1\n",
      "1 2\n",
      "1 3\n",
      "1 4\n",
      "1 5\n",
      "1 6\n",
      "1 7\n",
      "1 8\n",
      "2 0\n",
      "2 1\n",
      "2 2\n",
      "2 3\n",
      "2 4\n",
      "2 5\n",
      "2 6\n",
      "2 7\n",
      "2 8\n",
      "3 0\n",
      "3 1\n",
      "3 2\n",
      "3 3\n",
      "3 4\n",
      "3 5\n",
      "3 6\n",
      "3 7\n",
      "3 8\n",
      "4 0\n",
      "4 1\n",
      "4 2\n",
      "4 3\n",
      "4 4\n",
      "4 5\n",
      "4 6\n",
      "4 7\n",
      "4 8\n",
      "5 0\n",
      "5 1\n",
      "5 2\n",
      "5 3\n",
      "5 4\n",
      "5 5\n",
      "5 6\n",
      "5 7\n",
      "5 8\n"
     ]
    }
   ],
   "source": [
    "for i, j in "
   ]
  },
  {
   "cell_type": "markdown",
   "metadata": {},
   "source": [
    "## Python List append() Method\n",
    "\n",
    "The append() method appends an element to the end of list\n",
    "\n",
    "### Syntax\n",
    "list.append(element)\n",
    "\n",
    "##### Example \n",
    "\n",
    "fruits = ['apple', 'pineapple', 'orange', 'grape']\n",
    "\n",
    "fruits.append(\"water lemon\")"
   ]
  },
  {
   "cell_type": "code",
   "execution_count": null,
   "metadata": {},
   "outputs": [
    {
     "name": "stdout",
     "output_type": "stream",
     "text": [
      "current fruit:  apple\n",
      "current fruit:  pineapple\n",
      "current fruit:  orange\n",
      "current fruit:  grape\n",
      "current fruit:  lemonade\n",
      "current item:  apple\n",
      "current item:  pineapple\n",
      "current item:  orange\n",
      "current item:  grape\n",
      "current item:  lemonade\n",
      "current item:  ['apple juice', 'lemon juice', 'banana juice']\n"
     ]
    }
   ],
   "source": [
    "fruits = [\"apple\", \"pineapple\", \"orange\", \"grape\"]\n",
    "fruits.append(\"lemonade\")\n",
    "\n",
    "for fruit in fruits:\n",
    "    print(\"current fruit: \", fruit)\n",
    "    \n",
    "juices = [\"apple juice\", \"lemon juice\", \"banana juice\"]\n",
    "fruits.append(juices)\n",
    "\n",
    "for fruit in fruits:\n",
    "    print(\"current item: \", fruit)\n"
   ]
  },
  {
   "cell_type": "markdown",
   "metadata": {},
   "source": [
    "## Def function\n",
    "### Syntax \n",
    "    def function_name(param, param2,...)\n",
    "        statements(s)\n",
    "    hàm nếu không trả dữ liệu thì mặc định sẽ trả về giá trị None\n",
    "        "
   ]
  },
  {
   "cell_type": "code",
   "execution_count": 19,
   "metadata": {},
   "outputs": [
    {
     "data": {
      "text/plain": [
       "14"
      ]
     },
     "execution_count": 19,
     "metadata": {},
     "output_type": "execute_result"
    }
   ],
   "source": [
    "def sum(a, b):\n",
    "    return a + b * 3\n",
    "sum(1, 2)\n",
    "\n",
    "def plus(c, d = 10): # hàm có hỗ trợ giá trị mặc định cho tham số khi không truyền vào\n",
    "    return c + d \n",
    "plus(4)"
   ]
  }
 ],
 "metadata": {
  "kernelspec": {
   "display_name": "Python 3",
   "language": "python",
   "name": "python3"
  },
  "language_info": {
   "codemirror_mode": {
    "name": "ipython",
    "version": 3
   },
   "file_extension": ".py",
   "mimetype": "text/x-python",
   "name": "python",
   "nbconvert_exporter": "python",
   "pygments_lexer": "ipython3",
   "version": "3.13.0"
  }
 },
 "nbformat": 4,
 "nbformat_minor": 2
}
