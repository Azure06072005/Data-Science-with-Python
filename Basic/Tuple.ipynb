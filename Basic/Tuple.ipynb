{
 "cells": [
  {
   "cell_type": "markdown",
   "metadata": {},
   "source": [
    "## INTRODUCTION TO TUPLES\n",
    "\n",
    "A collection of items which are indexed, ordered and immutable\n",
    "syntax: tuple_name = (item1, item2, item3,...)\n",
    "                        |       |      |\n",
    "                index:  0       1      2\n",
    "order: can't change order \n",
    "immutable: can't be replace or change to another item"
   ]
  },
  {
   "cell_type": "code",
   "execution_count": 1,
   "metadata": {},
   "outputs": [
    {
     "ename": "TypeError",
     "evalue": "'tuple' object does not support item assignment",
     "output_type": "error",
     "traceback": [
      "\u001b[1;31m---------------------------------------------------------------------------\u001b[0m",
      "\u001b[1;31mTypeError\u001b[0m                                 Traceback (most recent call last)",
      "Cell \u001b[1;32mIn[1], line 2\u001b[0m\n\u001b[0;32m      1\u001b[0m cars \u001b[38;5;241m=\u001b[39m (\u001b[38;5;124m'\u001b[39m\u001b[38;5;124mAudi\u001b[39m\u001b[38;5;124m'\u001b[39m, \u001b[38;5;124m'\u001b[39m\u001b[38;5;124mMercedes\u001b[39m\u001b[38;5;124m'\u001b[39m, \u001b[38;5;124m'\u001b[39m\u001b[38;5;124mBMW\u001b[39m\u001b[38;5;124m'\u001b[39m)\n\u001b[1;32m----> 2\u001b[0m \u001b[43mcars\u001b[49m\u001b[43m[\u001b[49m\u001b[38;5;241;43m4\u001b[39;49m\u001b[43m]\u001b[49m \u001b[38;5;241m=\u001b[39m \u001b[38;5;124m'\u001b[39m\u001b[38;5;124mFerrari\u001b[39m\u001b[38;5;124m'\u001b[39m \n\u001b[0;32m      3\u001b[0m cars                                \u001b[38;5;66;03m#error\u001b[39;00m\n",
      "\u001b[1;31mTypeError\u001b[0m: 'tuple' object does not support item assignment"
     ]
    }
   ],
   "source": [
    "cars = ('Audi', 'Mercedes', 'BMW')\n",
    "cars[4] = 'Ferrari' \n",
    "cars                                #error"
   ]
  },
  {
   "cell_type": "markdown",
   "metadata": {},
   "source": [
    "Can have duplicates"
   ]
  },
  {
   "cell_type": "code",
   "execution_count": null,
   "metadata": {},
   "outputs": [
    {
     "data": {
      "text/plain": [
       "('Ferrari', 'Vinfast', 'BMW', 'Mercedes', 'Vinfast')"
      ]
     },
     "execution_count": 8,
     "metadata": {},
     "output_type": "execute_result"
    }
   ],
   "source": [
    "cars = ('Ferrari', 'Vinfast', 'BMW', 'Mercedes', 'Vinfast')\n",
    "cars                    "
   ]
  },
  {
   "cell_type": "markdown",
   "metadata": {},
   "source": [
    "## Tuple with one item\n",
    "syntax: tuple_name = (item1, ) => (item1,)\n",
    "        tuple_name = (item1)   => item1"
   ]
  },
  {
   "cell_type": "code",
   "execution_count": null,
   "metadata": {},
   "outputs": [
    {
     "data": {
      "text/plain": [
       "'Vinfast'"
      ]
     },
     "execution_count": 10,
     "metadata": {},
     "output_type": "execute_result"
    }
   ],
   "source": [
    "car = ('Vinfast',)\n",
    "car     # => ('Vinfast', )\n",
    "\n",
    "car = ('Vinfast')\n",
    "car     # => 'Vinfast'"
   ]
  },
  {
   "cell_type": "markdown",
   "metadata": {},
   "source": [
    "## length of a tuple\n",
    "can be determined using the len() function\n",
    "cars = ('Mercedes', 'Vinfast', 'BMW', 'Tesla')\n",
    "len(cars)\n"
   ]
  },
  {
   "cell_type": "code",
   "execution_count": 11,
   "metadata": {},
   "outputs": [
    {
     "data": {
      "text/plain": [
       "4"
      ]
     },
     "execution_count": 11,
     "metadata": {},
     "output_type": "execute_result"
    }
   ],
   "source": [
    "cars = ('Mercedes', 'Vinfast', 'BMW', 'Tesla')\n",
    "len(cars)\n"
   ]
  },
  {
   "cell_type": "markdown",
   "metadata": {},
   "source": [
    "## The tuple() constructor\n",
    "alternative way to create a tuple"
   ]
  },
  {
   "cell_type": "code",
   "execution_count": 12,
   "metadata": {},
   "outputs": [
    {
     "data": {
      "text/plain": [
       "('Audi', 'Vinfast', 'BMW')"
      ]
     },
     "execution_count": 12,
     "metadata": {},
     "output_type": "execute_result"
    }
   ],
   "source": [
    "cars = tuple(('Audi', 'Vinfast', 'BMW'))\n",
    "cars"
   ]
  },
  {
   "cell_type": "markdown",
   "metadata": {},
   "source": [
    "## Accessing tuple items through Positive Indexing\n",
    "each item of a tuple can be accessed through its index \n",
    "syntex: tuple_name[index]"
   ]
  },
  {
   "cell_type": "code",
   "execution_count": null,
   "metadata": {},
   "outputs": [
    {
     "name": "stdout",
     "output_type": "stream",
     "text": [
      "current car:  Vinfast\n",
      "current car:  Mercedes\n",
      "current car:  BMW\n"
     ]
    }
   ],
   "source": [
    "cars = ('Vinfast', 'Mercedes', 'BMW')\n",
    "cars[1]"
   ]
  },
  {
   "cell_type": "markdown",
   "metadata": {},
   "source": [
    "Trying to access item out of the index range will result an IndexError\n",
    "Providing float or any other data type as index will result in TypeError"
   ]
  },
  {
   "cell_type": "code",
   "execution_count": null,
   "metadata": {},
   "outputs": [
    {
     "ename": "TypeError",
     "evalue": "tuple indices must be integers or slices, not float",
     "output_type": "error",
     "traceback": [
      "\u001b[1;31m---------------------------------------------------------------------------\u001b[0m",
      "\u001b[1;31mTypeError\u001b[0m                                 Traceback (most recent call last)",
      "Cell \u001b[1;32mIn[17], line 3\u001b[0m\n\u001b[0;32m      1\u001b[0m cars \u001b[38;5;241m=\u001b[39m (\u001b[38;5;124m'\u001b[39m\u001b[38;5;124mVinfast\u001b[39m\u001b[38;5;124m'\u001b[39m, \u001b[38;5;124m'\u001b[39m\u001b[38;5;124mMercedes\u001b[39m\u001b[38;5;124m'\u001b[39m, \u001b[38;5;124m'\u001b[39m\u001b[38;5;124mBMW\u001b[39m\u001b[38;5;124m'\u001b[39m)\n\u001b[0;32m      2\u001b[0m \u001b[38;5;66;03m# cars[3]   # not exists because it is out of range\u001b[39;00m\n\u001b[1;32m----> 3\u001b[0m \u001b[43mcars\u001b[49m\u001b[43m[\u001b[49m\u001b[38;5;241;43m1.0\u001b[39;49m\u001b[43m]\u001b[49m\n",
      "\u001b[1;31mTypeError\u001b[0m: tuple indices must be integers or slices, not float"
     ]
    }
   ],
   "source": [
    "cars = ('Vinfast', 'Mercedes', 'BMW')\n",
    "cars[3]   # not exists because it is out of range\n",
    "cars[1.0]   "
   ]
  },
  {
   "cell_type": "markdown",
   "metadata": {},
   "source": [
    "## Accessing tuple items through Negative Indexing\n",
    "Index -1 refers to the last item, -2 refers to the second last item, and so on"
   ]
  },
  {
   "cell_type": "code",
   "execution_count": 19,
   "metadata": {},
   "outputs": [
    {
     "data": {
      "text/plain": [
       "'Mercedes'"
      ]
     },
     "execution_count": 19,
     "metadata": {},
     "output_type": "execute_result"
    }
   ],
   "source": [
    "cars = ('Vinfast', 'Mercedes', 'BMW')\n",
    "cars[-1]\n",
    "cars[-2]"
   ]
  },
  {
   "cell_type": "markdown",
   "metadata": {},
   "source": [
    "## Accessing tuple items through Slicing\n",
    "Range of items can be accessed using slicing\n",
    "Syntax: tuple_name[index1:index2]"
   ]
  },
  {
   "cell_type": "code",
   "execution_count": null,
   "metadata": {},
   "outputs": [
    {
     "data": {
      "text/plain": [
       "('Mercedes', 'BMW')"
      ]
     },
     "execution_count": 43,
     "metadata": {},
     "output_type": "execute_result"
    }
   ],
   "source": [
    "cars = ('Vinfast', 'Mercedes', 'BMW')\n",
    "cars[1:3]       #('Mercedes', 'BMW')\n",
    "cars[1:]        #('Mercedes', 'BMW')\n",
    "cars[:]         #('Vinfast', 'Mercedes', 'BMW')"
   ]
  },
  {
   "cell_type": "markdown",
   "metadata": {},
   "source": [
    "# Updating a Tuple in Python\n",
    "## Adding items to a Tuple\n",
    "not possible to directly add items to a tuple as tuples are immutable\n",
    "workaround: convert a tuple into a list"
   ]
  },
  {
   "cell_type": "code",
   "execution_count": 47,
   "metadata": {},
   "outputs": [
    {
     "name": "stdout",
     "output_type": "stream",
     "text": [
      "current car:  Vinfast\n",
      "current car:  Mercedes\n",
      "current car:  BMW\n",
      "current car:  Toyota\n"
     ]
    }
   ],
   "source": [
    "cars = ('Vinfast', 'Mercedes', 'BMW')\n",
    "temp = list(cars)                       # convert a tuple into a list\n",
    "temp.append('Toyota')\n",
    "temp\n",
    "cars = list(temp)\n",
    "for car in cars:\n",
    "    print(\"current car: \", car)"
   ]
  },
  {
   "cell_type": "markdown",
   "metadata": {},
   "source": [
    "## Updating a Tuple"
   ]
  },
  {
   "cell_type": "code",
   "execution_count": null,
   "metadata": {},
   "outputs": [
    {
     "data": {
      "text/plain": [
       "['Vinfast', 'Toyota', 'BMW']"
      ]
     },
     "execution_count": 48,
     "metadata": {},
     "output_type": "execute_result"
    }
   ],
   "source": [
    "cars = ('Vinfast', 'Mercedes', 'BMW')\n",
    "temp = list(cars)                       \n",
    "temp[1] = 'Toyota'\n",
    "cars = list(temp)\n",
    "cars"
   ]
  },
  {
   "cell_type": "markdown",
   "metadata": {},
   "source": [
    "## Removing items of a Tuple\n"
   ]
  },
  {
   "cell_type": "code",
   "execution_count": 54,
   "metadata": {},
   "outputs": [
    {
     "data": {
      "text/plain": [
       "('Vinfast', 'BMW')"
      ]
     },
     "execution_count": 54,
     "metadata": {},
     "output_type": "execute_result"
    }
   ],
   "source": [
    "cars = ('Vinfast', 'Mercedes', 'BMW')\n",
    "temp = list(cars)    \n",
    "temp.remove('Mercedes')\n",
    "cars = list(temp)\n",
    "cars = tuple(temp)\n",
    "cars"
   ]
  },
  {
   "cell_type": "markdown",
   "metadata": {},
   "source": [
    "Remove the entire tuple using del keyword"
   ]
  },
  {
   "cell_type": "code",
   "execution_count": 56,
   "metadata": {},
   "outputs": [
    {
     "ename": "NameError",
     "evalue": "name 'cars' is not defined",
     "output_type": "error",
     "traceback": [
      "\u001b[1;31m---------------------------------------------------------------------------\u001b[0m",
      "\u001b[1;31mNameError\u001b[0m                                 Traceback (most recent call last)",
      "Cell \u001b[1;32mIn[56], line 3\u001b[0m\n\u001b[0;32m      1\u001b[0m cars \u001b[38;5;241m=\u001b[39m (\u001b[38;5;124m'\u001b[39m\u001b[38;5;124mVinfast\u001b[39m\u001b[38;5;124m'\u001b[39m, \u001b[38;5;124m'\u001b[39m\u001b[38;5;124mMercedes\u001b[39m\u001b[38;5;124m'\u001b[39m, \u001b[38;5;124m'\u001b[39m\u001b[38;5;124mBMW\u001b[39m\u001b[38;5;124m'\u001b[39m)\n\u001b[0;32m      2\u001b[0m \u001b[38;5;28;01mdel\u001b[39;00m cars\n\u001b[1;32m----> 3\u001b[0m \u001b[43mcars\u001b[49m\n",
      "\u001b[1;31mNameError\u001b[0m: name 'cars' is not defined"
     ]
    }
   ],
   "source": [
    "cars = ('Vinfast', 'Mercedes', 'BMW')\n",
    "del cars\n",
    "cars"
   ]
  },
  {
   "cell_type": "markdown",
   "metadata": {},
   "source": [
    "# Unpacking a Tuple in Python\n",
    "Unpacking a Tuple\n",
    "Packing means assigning values to a tuple \n",
    "Unpacking means extracting values of a tuple"
   ]
  },
  {
   "cell_type": "code",
   "execution_count": null,
   "metadata": {},
   "outputs": [],
   "source": [
    "cars = ('Vinfast', 'Mercedes', 'BMW')\n",
    "car1, car2, car3 = cars\n",
    "print(car1, car2, car3)                 #Vinfast Mercedes BMW\n",
    "car1                                    #'Vinfast'\n",
    "car2                                    #'Mercedes'\n",
    "car3                                    #'BMW' "
   ]
  },
  {
   "cell_type": "markdown",
   "metadata": {},
   "source": [
    "## Use of asterisk\n",
    "Used when the number of variable are less than the values of a tuple"
   ]
  },
  {
   "cell_type": "code",
   "execution_count": null,
   "metadata": {},
   "outputs": [],
   "source": [
    "cars = ('Vinfast', 'Mercedes', 'BMW', 'Ford', 'Toyota')\n",
    "car1, car2, *car3 = cars\n",
    "car1                    #'Vinfast'\n",
    "car2                    #'Mercedes'\n",
    "car3                    #['BMW', 'Ford', 'Toyota']"
   ]
  },
  {
   "cell_type": "markdown",
   "metadata": {},
   "source": [
    "If asterisk is used with a variable other than the last variable, then the values are assigned until the values left matches the variables left"
   ]
  },
  {
   "cell_type": "code",
   "execution_count": null,
   "metadata": {},
   "outputs": [
    {
     "data": {
      "text/plain": [
       "'Toyota'"
      ]
     },
     "execution_count": 69,
     "metadata": {},
     "output_type": "execute_result"
    }
   ],
   "source": [
    "cars = ('Vinfast', 'Mercedes', 'BMW', 'Ford', 'Toyota')\n",
    "car1, *car2, car3 = cars\n",
    "car1                    #'Vinfast'\n",
    "car2                    #['Mercedes', 'BMW', 'Ford']\n",
    "car3                    #'Toyota'   "
   ]
  }
 ],
 "metadata": {
  "kernelspec": {
   "display_name": "Python 3",
   "language": "python",
   "name": "python3"
  },
  "language_info": {
   "codemirror_mode": {
    "name": "ipython",
    "version": 3
   },
   "file_extension": ".py",
   "mimetype": "text/x-python",
   "name": "python",
   "nbconvert_exporter": "python",
   "pygments_lexer": "ipython3",
   "version": "3.13.0"
  }
 },
 "nbformat": 4,
 "nbformat_minor": 2
}
