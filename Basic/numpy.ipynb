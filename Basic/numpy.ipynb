{
 "cells": [
  {
   "cell_type": "markdown",
   "metadata": {},
   "source": [
    "NumPy is the core library for scientific in Python. It is informally known as the swiss army knife of the data scientist\n",
    "It provides a high-performance multidimensional array object numpy.ndarray, and tools for operating on these arrays.\n",
    "If you’re already familiar with numerical processing in a different language like MATLAB and R, here are some recommended references:\n",
    "https://numpy.org/doc/stable/user/numpy-for-matlab-users.html\n",
    "http://www.data-analysis-in-python.org/python_for_r.html\n",
    "Related primers: https://aman.ai/primers/matplotlib and https://aman.ai/primers/scipy.\n"
   ]
  },
  {
   "cell_type": "markdown",
   "metadata": {},
   "source": [
    "## Arrays\n",
    "A NumPy array is a grid of values, all of the same type, and is indexed by a tuple of non-negative integers.\n",
    "The rank of an array is the number of dimensions it contains.\n",
    "The shape of an array is a tuple of integers giving the size of the array along each dimension.\n",
    "The size of an array is the number of elements it contains (which is equivalent to np.prod(<ndarray>.shape), i.e., the product of the array’s dimensions).\n",
    "We can initialize NumPy arrays from (nested) lists and tuples, and access elements using square brackets as array subscripts (similar to lists in Python)."
   ]
  },
  {
   "cell_type": "code",
   "execution_count": 22,
   "metadata": {},
   "outputs": [
    {
     "name": "stdout",
     "output_type": "stream",
     "text": [
      "<class 'numpy.ndarray'>\n",
      "(3,)\n",
      "1\n",
      "3\n",
      "1 2 3\n",
      "[5 2 3]\n",
      "(1, 3)\n",
      "3\n",
      "(2, 3)\n",
      "1 2 4\n",
      "[1 2 3]\n",
      "(3,)\n",
      "[[1 2 3]\n",
      " [4 5 6]]\n"
     ]
    },
    {
     "ename": "ValueError",
     "evalue": "setting an array element with a sequence. The requested array has an inhomogeneous shape after 1 dimensions. The detected shape was (2,) + inhomogeneous part.",
     "output_type": "error",
     "traceback": [
      "\u001b[1;31m---------------------------------------------------------------------------\u001b[0m",
      "\u001b[1;31mValueError\u001b[0m                                Traceback (most recent call last)",
      "Cell \u001b[1;32mIn[22], line 27\u001b[0m\n\u001b[0;32m     24\u001b[0m \u001b[38;5;28mprint\u001b[39m(e)                                    \u001b[38;5;66;03m# [[1 2 3]\u001b[39;00m\n\u001b[0;32m     25\u001b[0m                                             \u001b[38;5;66;03m# [4 5 6]]\u001b[39;00m\n\u001b[1;32m---> 27\u001b[0m f \u001b[38;5;241m=\u001b[39m \u001b[43mnp\u001b[49m\u001b[38;5;241;43m.\u001b[39;49m\u001b[43marray\u001b[49m\u001b[43m(\u001b[49m\u001b[43m[\u001b[49m\u001b[43m[\u001b[49m\u001b[38;5;241;43m1\u001b[39;49m\u001b[43m,\u001b[49m\u001b[38;5;241;43m2\u001b[39;49m\u001b[43m,\u001b[49m\u001b[38;5;241;43m3\u001b[39;49m\u001b[43m]\u001b[49m\u001b[43m,\u001b[49m\u001b[43m \u001b[49m\u001b[43m[\u001b[49m\u001b[38;5;241;43m4\u001b[39;49m\u001b[43m,\u001b[49m\u001b[38;5;241;43m5\u001b[39;49m\u001b[43m,\u001b[49m\u001b[43m]\u001b[49m\u001b[43m]\u001b[49m\u001b[43m)\u001b[49m               \u001b[38;5;66;03m# Define a rank 2 array using\u001b[39;00m\n\u001b[0;32m     28\u001b[0m \u001b[38;5;28mprint\u001b[39m(f)\n",
      "\u001b[1;31mValueError\u001b[0m: setting an array element with a sequence. The requested array has an inhomogeneous shape after 1 dimensions. The detected shape was (2,) + inhomogeneous part."
     ]
    }
   ],
   "source": [
    "import numpy as np\n",
    "a = np.array([1, 2, 3])                     # Define a rank 1 array using a list\n",
    "print(type(a))                              # Prints <class 'numpy.ndarray'>\n",
    "print(a.shape)                              # (3,)\n",
    "print(a.ndim)                               # Prints 1 (the rank ò the array); equivalent to \"len(a.shape)\"\n",
    "print(a.size)                               # Prints 3; equivalent to \"np.prob(a.shape)\"\n",
    "print(a[0], a[1], a[2])                     # Print (1, 2, 3)\n",
    "a[0] = 5                                    # Change an element of the array\n",
    "print(a)\n",
    "\n",
    "b = np.array([[1, 2, 3]])                   # Define a rank 2 array (vector) using a nested list\n",
    "print(b.shape)                              # (1, 3)\n",
    "print(b.size)                               # 3\n",
    "\n",
    "c = np.array([[1, 2, 3], [4, 5, 6]])        # Define a rank 2 array (matrix) using a nested list\n",
    "print(c.shape)                              # (2, 3)\n",
    "print(c[0, 0], c[0, 1], c[1,0])             # 1 2 4\n",
    "\n",
    "d = np.array((1,2,3))                       # Define a rank 1 array using a tuple\n",
    "print(d)                                    # [1 2 3]\n",
    "print(d.shape)                              # (3,)\n",
    "\n",
    "e = np.array(((1,2,3),(4,5,6)))             # Define a rank 2 using a nested tuple\n",
    "print(e)                                    # [[1 2 3]\n",
    "                                            # [4 5 6]]\n",
    "\n",
    "f = np.array([[1,2,3], [4,5,]])               # Define a rank 2 array using\n",
    "print(f)\n",
    "\n"
   ]
  }
 ],
 "metadata": {
  "kernelspec": {
   "display_name": "Python 3",
   "language": "python",
   "name": "python3"
  },
  "language_info": {
   "codemirror_mode": {
    "name": "ipython",
    "version": 3
   },
   "file_extension": ".py",
   "mimetype": "text/x-python",
   "name": "python",
   "nbconvert_exporter": "python",
   "pygments_lexer": "ipython3",
   "version": "3.13.0"
  }
 },
 "nbformat": 4,
 "nbformat_minor": 2
}
