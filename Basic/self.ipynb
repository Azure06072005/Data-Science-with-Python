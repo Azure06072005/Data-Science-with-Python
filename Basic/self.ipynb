{
 "cells": [
  {
   "cell_type": "markdown",
   "metadata": {},
   "source": [
    "## Self"
   ]
  },
  {
   "cell_type": "markdown",
   "metadata": {},
   "source": [
    "### Tham chiếu self\n",
    "Các tham số self là một tham chiếu đến thể hiện hiện tại của lớp, và được sử dụng để biến truy cập thuộc về lớp.bạn không nhất thiết đặt tên nó là self, bạn có thể gọi nó bất cứ thứ gì bạn thích, nhưng nó phải là tham số đầu tiên của bất kỳ hàm nào trong lớp:\n",
    "\n"
   ]
  },
  {
   "cell_type": "code",
   "execution_count": 3,
   "metadata": {},
   "outputs": [
    {
     "name": "stdout",
     "output_type": "stream",
     "text": [
      "Fruit is apple\n",
      "Color is red\n",
      "Fruit is grapes\n",
      "Color is green\n"
     ]
    }
   ],
   "source": [
    "class Food:\n",
    "    # init method or constructor\n",
    "    def __init__(self, fruit, color):\n",
    "        self.fruit = fruit\n",
    "        self.color = color\n",
    "\n",
    "    # Method to display information\n",
    "    def show(self):\n",
    "        print(\"Fruit is\", self.fruit)\n",
    "        print(\"Color is\", self.color)\n",
    "\n",
    "# Tạo các đối tượng (instances)\n",
    "apple = Food(\"apple\", \"red\")\n",
    "grapes = Food(\"grapes\", \"green\")\n",
    "\n",
    "# Hiển thị thông tin\n",
    "apple.show()\n",
    "grapes.show()\n"
   ]
  },
  {
   "cell_type": "code",
   "execution_count": null,
   "metadata": {},
   "outputs": [
    {
     "name": "stdout",
     "output_type": "stream",
     "text": [
      "Hello my name is Kiet\n"
     ]
    }
   ],
   "source": [
    "class Person:\n",
    "    def __init__(myPerson, name, age):\n",
    "        myPerson.name = name\n",
    "        myPerson.age = age\n",
    "    \n",
    "    def mycall(abc):\n",
    "        print(\"Hello my name is \" + abc.name)\n",
    "        input(\"Your name is: \", )\n",
    "\n",
    "Student1 = Person(\"Kiet\", 19)\n",
    "Student1.mycall()"
   ]
  }
 ],
 "metadata": {
  "kernelspec": {
   "display_name": "Python 3",
   "language": "python",
   "name": "python3"
  },
  "language_info": {
   "codemirror_mode": {
    "name": "ipython",
    "version": 3
   },
   "file_extension": ".py",
   "mimetype": "text/x-python",
   "name": "python",
   "nbconvert_exporter": "python",
   "pygments_lexer": "ipython3",
   "version": "3.13.0"
  }
 },
 "nbformat": 4,
 "nbformat_minor": 2
}
