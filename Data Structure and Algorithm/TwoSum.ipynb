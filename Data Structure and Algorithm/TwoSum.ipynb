{
 "cells": [
  {
   "cell_type": "markdown",
   "metadata": {},
   "source": [
    "Given array of integer target, return indices of two numbers such that they add up to target.\n",
    "Example 1:\n",
    "Input: nums = [2,7,11,15], target = 9\n",
    "Output: [0,1]\n",
    "Explanation: Because nums[0] + nums[1] == 9, we return [0, 1].\n",
    "\n",
    "Example 2:\n",
    "Input: nums = [3,2,4], target = 6\n",
    "Output: [1,2]\n",
    "\n",
    "Example 3:\n",
    "Input: nums = [3,3], target = 6\n",
    "Output: [0,1]\n",
    "\n",
    "Constraints:\n",
    "2 <= nums.length <= 10^4\n",
    "-10^9 <= nums[i] <= 10^9\n",
    "-1^09 <= target <= 10^9"
   ]
  },
  {
   "cell_type": "markdown",
   "metadata": {},
   "source": [
    "Method 1:\n",
    "The code uses nested loops to iterate over each pair of numbers in the nums list. The outer loop runs from 0 to len(nums)-1, and the inner loop runs from i+1 to len(nums)-1, where i is the current index of the outer loop. Within the nested loops, constant time operations are performed, such as checking if the sum of two numbers equals the target, appending indices to the a list, and using break and continue statements.\n",
    "Therefore, the overall time complexity of the code is O(n^2) due to the nested loops.\n",
    "\n",
    "Method 2:\n",
    "The code uses one loop to iterate over the number and subtract from target and if that subtracted number is present in list then return the index of both number.\n",
    "(here if condition of a==i means that possibly the target is 10 and present number in list might be [5,5] but it will return the same index so we need to skip)\n",
    "\n",
    "Method 3:\n",
    "The dictionary will help us to find the complement of each number more efficiently. In Method 2, Change the loop variable from i to num using the enumerate() function. This allows us to directly access the numbers from the nums list instead of using indexing.\n",
    "Replaced the variable p with complement to improve code readability.\n",
    "Replaced if p in nums with if complement in num_dict. This change allows us to check if the complement exists in the num_dict dictionary, which provides a more efficient lookup compared to the in operator on a list.\n",
    "Modified the return statement to return [num_dict[complement], i] instead of i, a. This returns the indices of the two numbers that add up to the target, as required."
   ]
  },
  {
   "cell_type": "code",
   "execution_count": 2,
   "metadata": {},
   "outputs": [
    {
     "name": "stdout",
     "output_type": "stream",
     "text": [
      "Chỉ số của hai phần tử có tổng bằng 10 là: [0, 2]\n"
     ]
    }
   ],
   "source": [
    "class Solution:\n",
    "    def twoSum(self, nums: list[int], target: int) -> list[int]:\n",
    "        # Duyệt qua mọi cặp chỉ số i, j trong danh sách\n",
    "        for i in range(len(nums)):\n",
    "            for j in range(i + 1, len(nums)):\n",
    "                # Kiểm tra nếu tổng của nums[i] và nums[j] bằng target\n",
    "                if nums[i] + nums[j] == target:\n",
    "                    return [i, j]  # Trả về chỉ số của cặp phần tử\n",
    "        return []  # Nếu không tìm thấy cặp nào\n",
    "def main():\n",
    "    nums = list(map(int, input(\"Nhập mảng các số nguyên, cách nhau bằng dấu cách: \").split()))\n",
    "    target = int(input(\"Nhập giá trị target: \"))\n",
    "    \n",
    "    solution = Solution()\n",
    "    result = solution.twoSum(nums, target)\n",
    "    \n",
    "    if result:\n",
    "        print(f\"Chỉ số của hai phần tử có tổng bằng {target} là: {result}\")\n",
    "    else:\n",
    "        print(\"Không tìm thấy cặp số nào thỏa mãn.\")\n",
    "\n",
    "if __name__ == \"__main__\":\n",
    "    main()\n"
   ]
  },
  {
   "cell_type": "code",
   "execution_count": 4,
   "metadata": {},
   "outputs": [
    {
     "name": "stdout",
     "output_type": "stream",
     "text": [
      "Chỉ số của hai phần tử có tổng bằng 4 là: [0, 2]\n"
     ]
    }
   ],
   "source": [
    "class Solution: \n",
    "    def twoSum(self, nums: list[int], target: int) -> list[int]:\n",
    "        # Duyệt qua mọi cặp chỉ số i, j trong danh sách\n",
    "        for i in range(len(nums)):\n",
    "            for j in range(i + 1, len(nums)):\n",
    "                # Kiểm tra nếu tổng của nums[i] + nums[j] bằng target\n",
    "                if nums[i] + nums[j] == target:\n",
    "                    return [i, j]\n",
    "                    # trả về chỉ số của cặp phần tử \n",
    "        return []\n",
    "        #  Nếu không tìm thấy cặp nào\n",
    "\n",
    "def main():\n",
    "    nums = list(map(int, input(\"Nhập mảng các số nguyên, cách nhau bằng dâu cách: \").split()))\n",
    "    target = int(input(\"Nhập giá trị target: \"))\n",
    "    \n",
    "    solution = Solution()\n",
    "    result = solution.twoSum(nums, target)\n",
    "    \n",
    "    if result: \n",
    "        print(f\"Chỉ số của hai phần tử có tổng bằng {target} là: {result}\")\n",
    "    else: \n",
    "        print(\"Không tìm thấy cặp số nào thỏa mãn.\")\n",
    "        \n",
    "if __name__ == \"__main__\":\n",
    "    main()"
   ]
  }
 ],
 "metadata": {
  "kernelspec": {
   "display_name": "Python 3",
   "language": "python",
   "name": "python3"
  },
  "language_info": {
   "codemirror_mode": {
    "name": "ipython",
    "version": 3
   },
   "file_extension": ".py",
   "mimetype": "text/x-python",
   "name": "python",
   "nbconvert_exporter": "python",
   "pygments_lexer": "ipython3",
   "version": "3.13.0"
  }
 },
 "nbformat": 4,
 "nbformat_minor": 2
}
