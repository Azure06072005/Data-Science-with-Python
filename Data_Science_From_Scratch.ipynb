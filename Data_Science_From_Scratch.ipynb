{
 "cells": [
  {
   "cell_type": "markdown",
   "metadata": {},
   "source": [
    "# A CRASH COURSE IN PYTHON\n",
    "## THE BASICS\n",
    "### GETTING PYTHON\n",
    "#### FINDING KEY CONNECTORS\n",
    "    what is data dump looks like? Its consists of a list of users, each represented by a dict that contains for each user his or her id (which is a number) and name (which, in one of the great cosmic coincidences, rhymes with the user's id)\n",
    "        users = [\n",
    "            { \"id\": 0, \"name\": \"Hero\" },\n",
    "            { \"id\": 1, \"name\": \"Dunn\" },\n",
    "            { \"id\": 2, \"name\": \"Sue\" },\n",
    "            { \"id\": 3, \"name\": \"Chi\" },\n",
    "            { \"id\": 4, \"name\": \"Thor\" },\n",
    "            { \"id\": 5, \"name\": \"Clive\" },\n",
    "            { \"id\": 6, \"name\": \"Hicks\" },\n",
    "            { \"id\": 7, \"name\": \"Devin\" },\n",
    "            { \"id\": 8, \"name\": \"Kate\" },\n",
    "            { \"id\": 9, \"name\": \"Klein\" }\n",
    "        ]\n",
    "    He also gives you the \"friendship\" data, represented as a list of pairs of IDs:\n",
    "            friendships = [(0, 1), (0, 2), (1, 2), (1, 3), (2, 3), (3, 4),\n",
    "            (4, 5), (5, 6), (5, 7), (6, 8), (7, 8), (8, 9)]\n"
   ]
  },
  {
   "cell_type": "markdown",
   "metadata": {},
   "source": [
    "##### Add a list of friends to each user.\n",
    "    First, set each user's friend property to an empty list: "
   ]
  },
  {
   "cell_type": "code",
   "execution_count": null,
   "metadata": {},
   "outputs": [],
   "source": [
    "for user in users:\n",
    "    user[\"friends\"] = []"
   ]
  },
  {
   "cell_type": "markdown",
   "metadata": {},
   "source": [
    "##### polulate the lists using the friendships data:"
   ]
  },
  {
   "cell_type": "code",
   "execution_count": 13,
   "metadata": {},
   "outputs": [],
   "source": [
    "for i, j in friendships:\n",
    "    # this workd because users[i] is the user whose id is i \n",
    "    users[i][\"friends\"].append(users[j]) #add i as a friend of j\n",
    "    users[j][\"friends\"].append(users[j]) #add j as a friend of i"
   ]
  },
  {
   "cell_type": "markdown",
   "metadata": {},
   "source": [
    "#### Once each user dict contains a list of friends, we can easily ask question of our graph like \"what's the average number of connections?\"\n",
    "\n",
    "### First we find the total number of connections, by summing up the lengths of all the friends lists: \n",
    "\n",
    "def number_of_friends(user):\n",
    "    \"\"\"how many friends does_user_have?\"\"\"\n",
    "    return len(user[\"friends\"])\n",
    "\n",
    "total_connections = sum(number_of_friends(user) \n",
    "                    for user in users)"
   ]
  },
  {
   "cell_type": "markdown",
   "metadata": {},
   "source": [
    "#### It's also easy to find the most connected people - they're the people who have the largest number of friends\n",
    "\n",
    "### Since there aren't very many users, we can sort them from \"most friends\" to \"least friends\":\n",
    "\n",
    "#create a list (user_id, number_of_friends)\n",
    "num_friends_by_id = [(user[\"id\"], number_of_friends(user))\n",
    "                    for user in users]\n",
    "sorted(num_friends_by_id,                                       #get it sorted\n",
    "        key = lambda (user_id, num_friends): num_friends,       #by num_friends\n",
    "        reverse = True)                                         #largest to smallest"
   ]
  },
  {
   "cell_type": "code",
   "execution_count": null,
   "metadata": {},
   "outputs": [
    {
     "name": "stdout",
     "output_type": "stream",
     "text": [
      "Total connections: 24\n",
      "Average connections: 2.4\n",
      "Sorted list of user IDs by number of friends: [(1, 3), (2, 3), (3, 3), (5, 3), (8, 3), (0, 2), (4, 2), (6, 2), (7, 2), (9, 1)]\n"
     ]
    }
   ],
   "source": [
    "users = [\n",
    "    {\"id\": 0, \"name\": \"Hero\"},\n",
    "    {\"id\": 1, \"name\": \"Dunn\"},\n",
    "    {\"id\": 2, \"name\": \"Sue\"},\n",
    "    {\"id\": 3, \"name\": \"Chi\"},\n",
    "    {\"id\": 4, \"name\": \"Thor\"},\n",
    "    {\"id\": 5, \"name\": \"Clive\"},\n",
    "    {\"id\": 6, \"name\": \"Hicks\"},\n",
    "    {\"id\": 7, \"name\": \"Devin\"},\n",
    "    {\"id\": 8, \"name\": \"Kate\"},\n",
    "    {\"id\": 9, \"name\": \"Klein\"}\n",
    "]\n",
    "\n",
    "friendships = [\n",
    "    (0, 1), (0, 2), (1, 2), (1, 3), (2, 3), (3, 4),\n",
    "    (4, 5), (5, 6), (5, 7), (6, 8), (7, 8), (8, 9)\n",
    "]\n",
    "\n",
    "# Initialize the friends list for each user\n",
    "for user in users:\n",
    "    user[\"friends\"] = []\n",
    "\n",
    "# Build friendships (mutual)\n",
    "for i, j in friendships:\n",
    "    users[i][\"friends\"].append(users[j])  # add j as a friend of i\n",
    "    users[j][\"friends\"].append(users[i])  # add i as a friend of j\n",
    "\n",
    "# Function to count the number of friends\n",
    "def number_of_friends(user):\n",
    "    \"\"\"How many friends does the user have?\"\"\"\n",
    "    return len(user[\"friends\"])\n",
    "\n",
    "# Calculate the total number of connections\n",
    "total_connections = sum(number_of_friends(user) for user in users)\n",
    "\n",
    "# Calculate average connections\n",
    "num_users = len(users)  # length of the users list\n",
    "avg_connections = total_connections / num_users\n",
    "\n",
    "# Create a list (user_id, number_of_friends) and sort by number of friends\n",
    "num_friends_by_id = [(user[\"id\"], number_of_friends(user)) for user in users]\n",
    "sorted_num_friends = sorted(num_friends_by_id, key=lambda x: x[1], reverse=True)\n",
    "\n",
    "# Display results\n",
    "print(f\"Total connections: {total_connections}\")\n",
    "print(f\"Average connections: {avg_connections}\")\n",
    "print(\"Sorted list of user IDs by number of friends:\", sorted_num_friends)\n",
    "# each pair is (user_id, num_friends)\n",
    "\n",
    "def friends_of_friend_ids_bad(user):\n",
    "    # \"foaf\" is short for \"friend of a friend\"\n",
    "    return [foaf[\"id\"]\n",
    "            for friend in user[\"friends\"]\n",
    "            for foaf in friend [\"friends\"]]\n",
    "        \n"
   ]
  },
  {
   "cell_type": "markdown",
   "metadata": {},
   "source": [
    "### A way of identifying people who are somehow central to the network\n",
    "in fact, what we've just computed is the network metric degree centrality (Figure 1-2)\n",
    "\n",
    "     (2)                 6\n",
    "    / | \\               / \\\n",
    "   /  |  \\             /   \\\n",
    "  /   |   \\           /     \\\n",
    "0     |   (3)---4---(5)     (8)---9\n",
    "  \\   |   /           \\     /\n",
    "   \\  |  /             \\   /\n",
    "    \\ | /               \\ /\n",
    "     (1)                 7\n",
    "\n",
    "In the DataSciencester network Thor (id 4) only has two connections while Dunn (id 1) has three. Yet looking at the network it intuitively seems like Thor should be more central"
   ]
  },
  {
   "cell_type": "markdown",
   "metadata": {},
   "source": [
    "## Data Scientist you may know \n",
    "\n",
    "Design a \"Data Scientists You May Know\" suggester\n",
    "your first instinct is to suggest that a user might know the friends of friends. These are easy to compute: for each of a user's friends, iterate over that person's friends, and collect all the results:\n",
    "\n",
    "def friends_of_friend_ids_bad(user):\n",
    "    # \"foaf\" is short for \"friend of a friend\"\n",
    "    return [foaf[\"id\"]]\n",
    "        for friend in user[\"friends\"]    # for each of user's friends\n",
    "        for foaf in friend[\"friends\"]    # get each of _their_ friends"
   ]
  },
  {
   "cell_type": "markdown",
   "metadata": {},
   "source": [
    "When we call this on users[0] (Hero), it produces: [0, 2, 3, 0, 1, 3]"
   ]
  },
  {
   "cell_type": "markdown",
   "metadata": {},
   "source": [
    "It include user 0 (twice), since Hero is indeed friends with both of his friends. It includes users 1 and 2, although they are both friends with Hero already. And it includes user 3 twice, as Chi is reachable through two different friends:\n",
    "print[friend[\"id\"] for friend in user[0][\"friends\"]]    # [1,2]\n",
    "print[friend[\"id\"] for friend in user[1][\"friends\"]]    # [0, 2, 3]\n",
    "print[friend[\"id\"] for friend in user[2][\"firends\"]]    # [0, 1, 3]"
   ]
  }
 ],
 "metadata": {
  "kernelspec": {
   "display_name": "Python 3",
   "language": "python",
   "name": "python3"
  },
  "language_info": {
   "codemirror_mode": {
    "name": "ipython",
    "version": 3
   },
   "file_extension": ".py",
   "mimetype": "text/x-python",
   "name": "python",
   "nbconvert_exporter": "python",
   "pygments_lexer": "ipython3",
   "version": "3.13.0"
  }
 },
 "nbformat": 4,
 "nbformat_minor": 2
}
