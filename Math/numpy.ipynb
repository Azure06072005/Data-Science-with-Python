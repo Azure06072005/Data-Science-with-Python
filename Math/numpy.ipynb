{
 "cells": [
  {
   "cell_type": "markdown",
   "metadata": {},
   "source": [
    "NumPy is the core library for scientific in Python. It is informally known as the swiss army knife of the data scientist\n",
    "It provides a high-performance multidimensional array object numpy.ndarray, and tools for operating on these arrays.\n",
    "If you’re already familiar with numerical processing in a different language like MATLAB and R, here are some recommended references:\n",
    "https://numpy.org/doc/stable/user/numpy-for-matlab-users.html\n",
    "http://www.data-analysis-in-python.org/python_for_r.html\n",
    "Related primers: https://aman.ai/primers/matplotlib and https://aman.ai/primers/scipy.\n"
   ]
  },
  {
   "cell_type": "markdown",
   "metadata": {},
   "source": [
    "## Arrays\n",
    "A NumPy array is a grid of values, all of the same type, and is indexed by a tuple of non-negative integers.\n",
    "The rank of an array is the number of dimensions it contains.\n",
    "The shape of an array is a tuple of integers giving the size of the array along each dimension.\n",
    "The size of an array is the number of elements it contains (which is equivalent to np.prod(<ndarray>.shape), i.e., the product of the array’s dimensions).\n",
    "We can initialize NumPy arrays from (nested) lists and tuples, and access elements using square brackets as array subscripts (similar to lists in Python)."
   ]
  },
  {
   "cell_type": "code",
   "execution_count": null,
   "metadata": {},
   "outputs": [
    {
     "name": "stdout",
     "output_type": "stream",
     "text": [
      "[1 1 1]\n",
      "[[1 2 3]\n",
      " [1 2 3]\n",
      " [1 2 3]]\n",
      "[[1 2 3]\n",
      " [1 2 3]\n",
      " [1 1 1]]\n"
     ]
    }
   ],
   "source": [
    "import numpy as np\n",
    "a = np.array([1, 2, 3])                     # Define a rank 1 array using a list\n",
    "print(type(a))                              # Prints <class 'numpy.ndarray'>\n",
    "print(a.shape)                              # (3,)\n",
    "print(a.ndim)                               # Prints 1 (the rank ò the array); equivalent to \"len(a.shape)\"\n",
    "print(a.size)                               # Prints 3; equivalent to \"np.prob(a.shape)\"\n",
    "print(a[0], a[1], a[2])                     # Print (1, 2, 3)\n",
    "a[0] = 5                                    # Change an element of the array\n",
    "print(a)\n",
    "\n",
    "b = np.array([[1, 2, 3]])                   # Define a rank 2 array (vector) using a nested list\n",
    "print(b.shape)                              # (1, 3)\n",
    "print(b.size)                               # 3\n",
    "\n",
    "c = np.array([[1, 2, 3], [4, 5, 6]])        # Define a rank 2 array (matrix) using a nested list\n",
    "print(c.shape)                              # (2, 3)\n",
    "print(c[0, 0], c[0, 1], c[1,0])             # 1 2 4\n",
    "\n",
    "d = np.array((1,2,3))                       # Define a rank 1 array using a tuple\n",
    "print(d)                                    # [1 2 3]\n",
    "print(d.shape)                              # (3,)\n",
    "\n",
    "e = np.array(((1,2,3),(4,5,6)))             # Define a rank 2 using a nested tuple\n",
    "print(e)                                    # [[1 2 3]\n",
    "                                            # [4 5 6]]\n",
    "\n",
    "f = np.array([[1,2,3], [4,5,0]])               # Define a rank 2 array using\n",
    "print(f)\n",
    "\n",
    "# Những mảng trong NumPy có thể được gán giá trị ban đầu với việc sử dụng những danh sách các mảng Python khác \n",
    "# Nhưng hãy chú ý rằng kết quả ma trận thì luôn là dạng của NumPy ndarray\n",
    "\n",
    "l = [1,2,3]                                 # Định nghĩa một danh sách\n",
    "g = np.array([1,1,1])                       # Ma trận gán giá trị với những danh sách\n",
    "a = np.array([1,2,3])                       # Định nghĩa một mảng NumPy bằng việc duyệt qua trong một danh sách\n",
    "h = np.array([a,a,a])                       # Ma trận gán giá trị với mảng NumPy\n",
    "i = np.array([a, [1,2,3], g])               # Ma trận gán trá trị với cả 2 loại\n",
    "\n",
    "# Tất cả những dẫn chứng in ra [[1 2 3]\n",
    "#                               [1 2 3]\n",
    "#                               [1 2 3]]\n",
    "\n",
    "print(g)\n",
    "print(h)\n",
    "print(i)"
   ]
  }
 ],
 "metadata": {
  "kernelspec": {
   "display_name": "Python 3",
   "language": "python",
   "name": "python3"
  },
  "language_info": {
   "codemirror_mode": {
    "name": "ipython",
    "version": 3
   },
   "file_extension": ".py",
   "mimetype": "text/x-python",
   "name": "python",
   "nbconvert_exporter": "python",
   "pygments_lexer": "ipython3",
   "version": "3.13.0"
  }
 },
 "nbformat": 4,
 "nbformat_minor": 2
}
